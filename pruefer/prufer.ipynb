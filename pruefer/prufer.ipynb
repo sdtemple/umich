{
 "cells": [
  {
   "cell_type": "markdown",
   "metadata": {},
   "source": [
    "### Encoding coalescent trees as Pruefer sequences\n",
    "\n",
    "Seth Temple, sdtemple.github.io\n",
    "\n",
    "11/14/2024\n",
    "\n",
    "The Pruefer sequence is a compact way to represent a tree. The Pruefer sequence may be useful in studying coalescent trees. There are specific properties that the ultrametric imposes.\n",
    "\n",
    "Much of this code is developed using a GPT service. I wrote some functions to test that the code behaves as expected."
   ]
  },
  {
   "cell_type": "code",
   "execution_count": 1,
   "metadata": {},
   "outputs": [],
   "source": [
    "from prufer import *\n",
    "import random"
   ]
  },
  {
   "cell_type": "code",
   "execution_count": 2,
   "metadata": {},
   "outputs": [],
   "source": [
    "prufer = simulate_prufer(10)"
   ]
  },
  {
   "cell_type": "code",
   "execution_count": 13,
   "metadata": {},
   "outputs": [
    {
     "name": "stdout",
     "output_type": "stream",
     "text": [
      "4\n",
      "5\n",
      "10\n",
      "11\n",
      "20\n",
      "21\n",
      "50\n",
      "51\n",
      "100\n",
      "101\n"
     ]
    }
   ],
   "source": [
    "# Test that Prufer sequence to tree topology is unique 1-1\n",
    "# And that Prufer sequence has coalescent properties\n",
    "ns = [4, 5, 10, 11, 20, 21, 50, 51, 100, 101]\n",
    "M = 50\n",
    "for n in ns:\n",
    "    print(n)\n",
    "    sm = 0\n",
    "    for m in range(M):\n",
    "        prufer = simulate_prufer(n)\n",
    "        sm += prufer_there_and_back_again(prufer)\n",
    "        valid_prufer(prufer)\n",
    "    assert sm <= 0."
   ]
  }
 ],
 "metadata": {
  "kernelspec": {
   "display_name": "umich",
   "language": "python",
   "name": "python3"
  },
  "language_info": {
   "codemirror_mode": {
    "name": "ipython",
    "version": 3
   },
   "file_extension": ".py",
   "mimetype": "text/x-python",
   "name": "python",
   "nbconvert_exporter": "python",
   "pygments_lexer": "ipython3",
   "version": "3.12.7"
  }
 },
 "nbformat": 4,
 "nbformat_minor": 2
}
