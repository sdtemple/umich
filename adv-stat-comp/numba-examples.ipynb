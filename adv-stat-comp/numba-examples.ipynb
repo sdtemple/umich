{
 "cells": [
  {
   "cell_type": "markdown",
   "metadata": {},
   "source": [
    "## Exploring scenarios in which Numba is faster than NumPy or base Python"
   ]
  },
  {
   "cell_type": "code",
   "execution_count": 14,
   "metadata": {},
   "outputs": [],
   "source": [
    "import numba\n",
    "from numba import njit\n",
    "import numpy as np\n",
    "rng = np.random.default_rng(10031995)"
   ]
  },
  {
   "cell_type": "code",
   "execution_count": 59,
   "metadata": {},
   "outputs": [],
   "source": [
    "X = np.array([[0., 0], [0, 1], [1, 0]])\n",
    "y = np.array([.25, 0.3])"
   ]
  },
  {
   "cell_type": "code",
   "execution_count": 4,
   "metadata": {},
   "outputs": [
    {
     "data": {
      "text/plain": [
       "(0.44999999999999996, 0.3, 0.25)"
      ]
     },
     "execution_count": 4,
     "metadata": {},
     "output_type": "execute_result"
    }
   ],
   "source": [
    "@numba.jit\n",
    "def barycentric(x1, x2, x3, y):\n",
    "    v0 = y - x1\n",
    "    v1 = x2 - x1\n",
    "    v2 = x3 - x1\n",
    "    d00 = v0.dot(v0)\n",
    "    d01 = v0.dot(v1)\n",
    "    d02 = v0.dot(v2)\n",
    "    d11 = v1.dot(v1)\n",
    "    d12 = v1.dot(v2)\n",
    "    d22 = v2.dot(v2)\n",
    "    det_A = d11 * d22 - d12 * d12\n",
    "    alpha_1 = (d01 * d22 - d12 * d02) / det_A\n",
    "    alpha_2 = (d11 * d02 - d01 * d12) / det_A\n",
    "    return (1 - alpha_1 - alpha_2, alpha_1, alpha_2)\n",
    "\n",
    "barycentric(*X, y) "
   ]
  },
  {
   "cell_type": "code",
   "execution_count": 5,
   "metadata": {},
   "outputs": [
    {
     "name": "stdout",
     "output_type": "stream",
     "text": [
      "2.71 μs ± 547 ns per loop (mean ± std. dev. of 7 runs, 100,000 loops each)\n"
     ]
    }
   ],
   "source": [
    "%timeit barycentric(*X, y)"
   ]
  },
  {
   "cell_type": "code",
   "execution_count": 6,
   "metadata": {},
   "outputs": [],
   "source": [
    "def barycentric_base(x1, x2, x3, y):\n",
    "    v0 = y - x1\n",
    "    v1 = x2 - x1\n",
    "    v2 = x3 - x1\n",
    "    d00 = v0.dot(v0)\n",
    "    d01 = v0.dot(v1)\n",
    "    d02 = v0.dot(v2)\n",
    "    d11 = v1.dot(v1)\n",
    "    d12 = v1.dot(v2)\n",
    "    d22 = v2.dot(v2)\n",
    "    det_A = d11 * d22 - d12 * d12\n",
    "    alpha_1 = (d01 * d22 - d12 * d02) / det_A\n",
    "    alpha_2 = (d11 * d02 - d01 * d12) / det_A\n",
    "    return (1 - alpha_1 - alpha_2, alpha_1, alpha_2)"
   ]
  },
  {
   "cell_type": "code",
   "execution_count": 9,
   "metadata": {},
   "outputs": [
    {
     "name": "stdout",
     "output_type": "stream",
     "text": [
      "8.95 μs ± 542 ns per loop (mean ± std. dev. of 7 runs, 100,000 loops each)\n"
     ]
    }
   ],
   "source": [
    "%timeit barycentric_base(*X,y)"
   ]
  },
  {
   "cell_type": "markdown",
   "metadata": {},
   "source": [
    "Numba is faster than base Python for computing barycentric coordinates."
   ]
  },
  {
   "cell_type": "code",
   "execution_count": 12,
   "metadata": {},
   "outputs": [
    {
     "data": {
      "text/plain": [
       "(0.44999999999999996, 0.3, 0.25)"
      ]
     },
     "execution_count": 12,
     "metadata": {},
     "output_type": "execute_result"
    }
   ],
   "source": [
    "@njit\n",
    "def barycentric_njit(x1, x2, x3, y):\n",
    "    v0 = y - x1\n",
    "    v1 = x2 - x1\n",
    "    v2 = x3 - x1\n",
    "    d00 = v0.dot(v0)\n",
    "    d01 = v0.dot(v1)\n",
    "    d02 = v0.dot(v2)\n",
    "    d11 = v1.dot(v1)\n",
    "    d12 = v1.dot(v2)\n",
    "    d22 = v2.dot(v2)\n",
    "    det_A = d11 * d22 - d12 * d12\n",
    "    alpha_1 = (d01 * d22 - d12 * d02) / det_A\n",
    "    alpha_2 = (d11 * d02 - d01 * d12) / det_A\n",
    "    return (1 - alpha_1 - alpha_2, alpha_1, alpha_2)\n",
    "\n",
    "barycentric_njit(*X, y) "
   ]
  },
  {
   "cell_type": "code",
   "execution_count": 13,
   "metadata": {},
   "outputs": [
    {
     "name": "stdout",
     "output_type": "stream",
     "text": [
      "2.63 μs ± 408 ns per loop (mean ± std. dev. of 7 runs, 100,000 loops each)\n"
     ]
    }
   ],
   "source": [
    "%timeit barycentric_njit(*X,y)"
   ]
  },
  {
   "cell_type": "markdown",
   "metadata": {},
   "source": [
    "Okay, so, when is @njit faster than @numba.jit?"
   ]
  },
  {
   "cell_type": "code",
   "execution_count": 62,
   "metadata": {},
   "outputs": [],
   "source": [
    "@njit\n",
    "def barycentric_njit_loops(x1, x2, x3, y, n):\n",
    "    for _ in range(n):\n",
    "        v0 = y - x1\n",
    "        v1 = x2 - x1\n",
    "        v2 = x3 - x1\n",
    "        d00 = v0.dot(v0)\n",
    "        d01 = v0.dot(v1)\n",
    "        d02 = v0.dot(v2)\n",
    "        d11 = v1.dot(v1)\n",
    "        d12 = v1.dot(v2)\n",
    "        d22 = v2.dot(v2)\n",
    "        det_A = d11 * d22 - d12 * d12\n",
    "        alpha_1 = (d01 * d22 - d12 * d02) / det_A\n",
    "        alpha_2 = (d11 * d02 - d01 * d12) / det_A\n",
    "        sol = (1 - alpha_1 - alpha_2, alpha_1, alpha_2)\n",
    "    return None\n",
    "barycentric_njit_loops(*X, y, 10) "
   ]
  },
  {
   "cell_type": "code",
   "execution_count": 66,
   "metadata": {},
   "outputs": [
    {
     "name": "stdout",
     "output_type": "stream",
     "text": [
      "28.5 μs ± 5.39 μs per loop (mean ± std. dev. of 7 runs, 10,000 loops each)\n"
     ]
    }
   ],
   "source": [
    "%timeit barycentric_njit_loops(*X, y, 100) "
   ]
  },
  {
   "cell_type": "code",
   "execution_count": 64,
   "metadata": {},
   "outputs": [],
   "source": [
    "def barycentric_base_loops(x1, x2, x3, y, n):\n",
    "    for _ in range(n):\n",
    "        v0 = y - x1\n",
    "        v1 = x2 - x1\n",
    "        v2 = x3 - x1\n",
    "        d00 = v0.dot(v0)\n",
    "        d01 = v0.dot(v1)\n",
    "        d02 = v0.dot(v2)\n",
    "        d11 = v1.dot(v1)\n",
    "        d12 = v1.dot(v2)\n",
    "        d22 = v2.dot(v2)\n",
    "        det_A = d11 * d22 - d12 * d12\n",
    "        alpha_1 = (d01 * d22 - d12 * d02) / det_A\n",
    "        alpha_2 = (d11 * d02 - d01 * d12) / det_A\n",
    "        sol = (1 - alpha_1 - alpha_2, alpha_1, alpha_2)\n",
    "    return None"
   ]
  },
  {
   "cell_type": "code",
   "execution_count": 67,
   "metadata": {},
   "outputs": [
    {
     "name": "stdout",
     "output_type": "stream",
     "text": [
      "847 μs ± 148 μs per loop (mean ± std. dev. of 7 runs, 1,000 loops each)\n"
     ]
    }
   ],
   "source": [
    "%timeit barycentric_base_loops(*X, y, 100) "
   ]
  },
  {
   "cell_type": "markdown",
   "metadata": {},
   "source": [
    "Base Python for loops scale linearly in the loop size. Use of Numba with for loops appears to scale faster than linearly in loop size. At least for this barycentric coordinates example."
   ]
  },
  {
   "cell_type": "code",
   "execution_count": 19,
   "metadata": {},
   "outputs": [],
   "source": [
    "def ex1(a, b, out):\n",
    "    for i in range(a.shape[0]):\n",
    "        out[i] = a[i] + b[i]\n",
    "        \n",
    "a, b = rng.random((2, 3000))\n",
    "out = np.empty_like(a)"
   ]
  },
  {
   "cell_type": "code",
   "execution_count": 20,
   "metadata": {},
   "outputs": [
    {
     "name": "stdout",
     "output_type": "stream",
     "text": [
      "1.03 ms ± 81.7 μs per loop (mean ± std. dev. of 7 runs, 1,000 loops each)\n"
     ]
    }
   ],
   "source": [
    "%timeit ex1(a, b, out)"
   ]
  },
  {
   "cell_type": "code",
   "execution_count": 17,
   "metadata": {},
   "outputs": [],
   "source": [
    "ex2 = numba.jit(ex1)\n",
    "ex2(a,b,out)"
   ]
  },
  {
   "cell_type": "code",
   "execution_count": 21,
   "metadata": {},
   "outputs": [
    {
     "name": "stdout",
     "output_type": "stream",
     "text": [
      "1.74 μs ± 346 ns per loop (mean ± std. dev. of 7 runs, 100,000 loops each)\n"
     ]
    }
   ],
   "source": [
    "%timeit ex2(a, b, out)"
   ]
  },
  {
   "cell_type": "markdown",
   "metadata": {},
   "source": [
    "Numba is much faster than base Python for for loops."
   ]
  },
  {
   "cell_type": "code",
   "execution_count": 51,
   "metadata": {},
   "outputs": [
    {
     "data": {
      "text/plain": [
       "((1000, 20), (1000, 1))"
      ]
     },
     "execution_count": 51,
     "metadata": {},
     "output_type": "execute_result"
    }
   ],
   "source": [
    "U = np.random.normal(size=(1000,20))\n",
    "V = np.random.normal(size=(1000,1))\n",
    "Us = np.random.normal(size=(1000,1000,20))\n",
    "Vs = np.random.normal(size=(1000,1000,1))\n",
    "U.shape, V.shape"
   ]
  },
  {
   "cell_type": "code",
   "execution_count": 37,
   "metadata": {},
   "outputs": [],
   "source": [
    "@njit\n",
    "def lstsq_numba(U,V):\n",
    "    return np.linalg.lstsq(U,V)\n",
    "out=lstsq_numba(U,V)"
   ]
  },
  {
   "cell_type": "code",
   "execution_count": 39,
   "metadata": {},
   "outputs": [
    {
     "name": "stdout",
     "output_type": "stream",
     "text": [
      "622 μs ± 32.5 μs per loop (mean ± std. dev. of 7 runs, 1,000 loops each)\n"
     ]
    }
   ],
   "source": [
    "%timeit np.linalg.lstsq(U,V,rcond=None)"
   ]
  },
  {
   "cell_type": "code",
   "execution_count": 40,
   "metadata": {},
   "outputs": [
    {
     "name": "stdout",
     "output_type": "stream",
     "text": [
      "711 μs ± 55.4 μs per loop (mean ± std. dev. of 7 runs, 1,000 loops each)\n"
     ]
    }
   ],
   "source": [
    "%timeit lstsq_numba(U,V)"
   ]
  },
  {
   "cell_type": "code",
   "execution_count": 42,
   "metadata": {},
   "outputs": [],
   "source": [
    "@njit\n",
    "def lstsq_numba_loops(Us,Vs):\n",
    "    N = Us.shape[0]\n",
    "    for n in range(N):\n",
    "        U = Us[n]\n",
    "        V = Vs[n]\n",
    "        lstsq_numba(U,V)\n",
    "    return None\n",
    "lstsq_numba_loops(Us,Vs)"
   ]
  },
  {
   "cell_type": "code",
   "execution_count": 52,
   "metadata": {},
   "outputs": [
    {
     "name": "stdout",
     "output_type": "stream",
     "text": [
      "685 ms ± 69.8 ms per loop (mean ± std. dev. of 7 runs, 1 loop each)\n"
     ]
    }
   ],
   "source": [
    "%timeit lstsq_numba_loops(Us, Vs)"
   ]
  },
  {
   "cell_type": "code",
   "execution_count": 46,
   "metadata": {},
   "outputs": [],
   "source": [
    "def lstsq_loops(Us,Vs):\n",
    "    N = Us.shape[0]\n",
    "    for n in range(N):\n",
    "        U = Us[n]\n",
    "        V = Vs[n]\n",
    "        np.linalg.lstsq(U,V,rcond=None)\n",
    "    return None"
   ]
  },
  {
   "cell_type": "code",
   "execution_count": 53,
   "metadata": {},
   "outputs": [
    {
     "name": "stdout",
     "output_type": "stream",
     "text": [
      "592 ms ± 30 ms per loop (mean ± std. dev. of 7 runs, 1 loop each)\n"
     ]
    }
   ],
   "source": [
    "%timeit lstsq_loops(Us,Vs)"
   ]
  },
  {
   "cell_type": "markdown",
   "metadata": {},
   "source": [
    "In the least squares scenarios, it appears that NumPy least squares is already optimized. Previously, with the for loops, Numba is much faster for addition. In the barycentric examples, there are many small operations, and these are faster in Numba than the NumPy options. "
   ]
  }
 ],
 "metadata": {
  "kernelspec": {
   "display_name": "umich",
   "language": "python",
   "name": "python3"
  },
  "language_info": {
   "codemirror_mode": {
    "name": "ipython",
    "version": 3
   },
   "file_extension": ".py",
   "mimetype": "text/x-python",
   "name": "python",
   "nbconvert_exporter": "python",
   "pygments_lexer": "ipython3",
   "version": "3.12.7"
  }
 },
 "nbformat": 4,
 "nbformat_minor": 2
}
