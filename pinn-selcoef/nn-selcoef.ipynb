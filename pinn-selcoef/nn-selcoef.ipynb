{
 "cells": [
  {
   "cell_type": "markdown",
   "metadata": {},
   "source": [
    "#### Training a neural network to estimate selection coefficients\n",
    "#### Seth Temple, sdtemple.github.io\n",
    "#### 11/11/2024"
   ]
  },
  {
   "cell_type": "markdown",
   "metadata": {},
   "source": [
    "A decent amount of code is Copy + Paste and modify from: \n",
    "\n",
    "https://github.com/benmoseley/harmonic-oscillator-pinn/blob/main/Harmonic%20oscillator%20PINN.ipynb"
   ]
  },
  {
   "cell_type": "code",
   "execution_count": null,
   "metadata": {},
   "outputs": [],
   "source": [
    "import numpy as np\n",
    "import torch\n",
    "import torch.nn as nn\n",
    "from torch.utils.data import DataLoader, TensorDataset\n",
    "import matplotlib.pyplot as plt\n",
    "from simple_selcoef import * # must be in same folder"
   ]
  },
  {
   "cell_type": "code",
   "execution_count": null,
   "metadata": {},
   "outputs": [],
   "source": [
    "### population genetics\n",
    "\n",
    "# simulation data\n",
    "num_rep = 10\n",
    "s_step = 0.002 # step size for selection coefficient\n",
    "num_s = 50 # numbers of steps for selection coefficient\n",
    "p_start = 0.1 # starting frequency in loop\n",
    "p_step = 0.02 # step size for frequency\n",
    "num_p = 40 # number of steps for frequency\n",
    "first = 50 # use this many generations as input data\n",
    "\n",
    "# make an Ne file\n",
    "make_constant_Ne('c10.ne',1e4, 500)\n",
    "Ne = read_Ne('c10.ne')\n",
    "\n",
    "### neural networks\n",
    "\n",
    "num_epochs = 20\n",
    "num_batches = 10\n",
    "num_hidden = 32\n",
    "num_layers = 3\n",
    "act = nn.Tanh\n"
   ]
  },
  {
   "cell_type": "code",
   "execution_count": null,
   "metadata": {},
   "outputs": [],
   "source": [
    "class FCN(nn.Module):\n",
    "    \"Defines a connected network\"\n",
    "    \n",
    "    def __init__(self, N_INPUT, N_OUTPUT, N_HIDDEN, N_LAYERS, activation):\n",
    "        super().__init__()\n",
    "        self.fcs = nn.Sequential(*[\n",
    "                        nn.Linear(N_INPUT, N_HIDDEN),\n",
    "                        activation()])\n",
    "        self.fch = nn.Sequential(*[\n",
    "                        nn.Sequential(*[\n",
    "                            nn.Linear(N_HIDDEN, N_HIDDEN),\n",
    "                            activation()]) for _ in range(N_LAYERS-1)])\n",
    "        self.fce = nn.Linear(N_HIDDEN, N_OUTPUT)\n",
    "        \n",
    "    def forward(self, x):\n",
    "        x = self.fcs(x)\n",
    "        x = self.fch(x)\n",
    "        x = self.fce(x)\n",
    "        return x"
   ]
  },
  {
   "cell_type": "code",
   "execution_count": null,
   "metadata": {},
   "outputs": [],
   "source": [
    "# uncomment to create data\n",
    "ss = [s_step * i for i in range(num_s)]\n",
    "N = num_rep\n",
    "ps = [p_start + i * p_step for i in range(num_p)]\n",
    "M = N*len(ss)*len(ps)\n",
    "y_array = np.zeros((M,1),dtype=np.float32)\n",
    "x_array = np.zeros((M,first),dtype=np.float32)\n",
    "# j = 0\n",
    "# for p in ps:\n",
    "#     for s in ss:\n",
    "#         for n in range(N):\n",
    "#             y = s\n",
    "#             x0, _, _ = walk_variant_backward(y,p,Ne,random_walk=True)\n",
    "#             x = x0[:first]\n",
    "#             x_array[j,:] = x\n",
    "#             y_array[j] = y\n",
    "#             j += 1\n",
    "# x_data = torch.from_numpy(x_array)\n",
    "# y_data = torch.from_numpy(y_array)\n",
    "# torch.save(x_data,'x_tensor.pth')\n",
    "# torch.save(y_data,'y_tensor.pth')\n"
   ]
  },
  {
   "cell_type": "code",
   "execution_count": 112,
   "metadata": {},
   "outputs": [
    {
     "name": "stderr",
     "output_type": "stream",
     "text": [
      "/tmp/ipykernel_36315/3736850351.py:3: FutureWarning: You are using `torch.load` with `weights_only=False` (the current default value), which uses the default pickle module implicitly. It is possible to construct malicious pickle data which will execute arbitrary code during unpickling (See https://github.com/pytorch/pytorch/blob/main/SECURITY.md#untrusted-models for more details). In a future release, the default value for `weights_only` will be flipped to `True`. This limits the functions that could be executed during unpickling. Arbitrary objects will no longer be allowed to be loaded via this mode unless they are explicitly allowlisted by the user via `torch.serialization.add_safe_globals`. We recommend you start setting `weights_only=True` for any use case where you don't have full control of the loaded file. Please open an issue on GitHub for any issues related to this experimental feature.\n",
      "  x_data = torch.load('x_tensor.pth')\n",
      "/tmp/ipykernel_36315/3736850351.py:4: FutureWarning: You are using `torch.load` with `weights_only=False` (the current default value), which uses the default pickle module implicitly. It is possible to construct malicious pickle data which will execute arbitrary code during unpickling (See https://github.com/pytorch/pytorch/blob/main/SECURITY.md#untrusted-models for more details). In a future release, the default value for `weights_only` will be flipped to `True`. This limits the functions that could be executed during unpickling. Arbitrary objects will no longer be allowed to be loaded via this mode unless they are explicitly allowlisted by the user via `torch.serialization.add_safe_globals`. We recommend you start setting `weights_only=True` for any use case where you don't have full control of the loaded file. Please open an issue on GitHub for any issues related to this experimental feature.\n",
      "  y_data = torch.load('y_tensor.pth')\n"
     ]
    }
   ],
   "source": [
    "# train standard neural network to fit training data\n",
    "\n",
    "x_data = torch.load('x_tensor.pth')\n",
    "y_data = torch.load('y_tensor.pth')\n",
    "\n",
    "dataset = TensorDataset(x_data,y_data)\n",
    "dataloader = DataLoader(dataset, batch_size=num_batches, shuffle=True)\n",
    "torch.manual_seed(123)\n",
    "model = FCN(first,1,num_hidden,num_layers,act)\n",
    "optimizer = torch.optim.Adam(model.parameters(),lr=1e-3)\n",
    "files = []\n",
    "for i in range(num_epochs):\n",
    "    for inputs, targets in dataloader:\n",
    "        optimizer.zero_grad()\n",
    "        yh = model(inputs)\n",
    "        loss = torch.mean((yh-targets)**2)# use mean squared error\n",
    "        loss.backward()\n",
    "        optimizer.step()\n",
    "            "
   ]
  },
  {
   "cell_type": "code",
   "execution_count": null,
   "metadata": {},
   "outputs": [
    {
     "data": {
      "text/plain": [
       "tensor([0.0455], grad_fn=<ViewBackward0>)"
      ]
     },
     "execution_count": 113,
     "metadata": {},
     "output_type": "execute_result"
    }
   ],
   "source": [
    "# make a prediction\n",
    "p = 0.5\n",
    "s = 0.05\n",
    "x0, _, _ = walk_variant_backward(s,p,Ne,random_walk=True)\n",
    "x = x0[:first]\n",
    "x_t = torch.from_numpy(x).to(torch.float32)\n",
    "model(x_t)"
   ]
  }
 ],
 "metadata": {
  "kernelspec": {
   "display_name": "umich",
   "language": "python",
   "name": "python3"
  },
  "language_info": {
   "codemirror_mode": {
    "name": "ipython",
    "version": 3
   },
   "file_extension": ".py",
   "mimetype": "text/x-python",
   "name": "python",
   "nbconvert_exporter": "python",
   "pygments_lexer": "ipython3",
   "version": "3.12.7"
  }
 },
 "nbformat": 4,
 "nbformat_minor": 2
}
