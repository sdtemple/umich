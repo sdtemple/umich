{
 "cells": [
  {
   "cell_type": "code",
   "execution_count": null,
   "metadata": {},
   "outputs": [],
   "source": [
    "import numpy as np\n",
    "import torch\n",
    "import torch.nn as nn\n",
    "from torch.utils.data import DataLoader, TensorDataset\n",
    "from simple_selcoef import * # must be in same folder\n",
    "from math import floor, ceil"
   ]
  },
  {
   "cell_type": "code",
   "execution_count": null,
   "metadata": {},
   "outputs": [],
   "source": [
    "### Population genetics parameters\n",
    "\n",
    "# Simulation data\n",
    "sample_size = 50\n",
    "num_rep = 5\n",
    "s_start = -0.1\n",
    "s_step = 0.002 # step size for selection coefficient\n",
    "s_end = 0.1 # numbers of steps for selection coefficient\n",
    "p_start = 0.1 # starting frequency in loop\n",
    "p_step = 0.025 # step size for frequency\n",
    "p_end = 0.9 # number of steps for frequency\n",
    "gens = np.arange(0,50,2)\n",
    "sizes = np.repeat(sample_size, gens.shape[0])\n",
    "\n",
    "# Make an Ne file\n",
    "make_constant_Ne('c10.ne',1e4, 500)\n",
    "Ne = read_Ne('c10.ne')\n"
   ]
  },
  {
   "cell_type": "code",
   "execution_count": null,
   "metadata": {},
   "outputs": [],
   "source": [
    "\n",
    "x_data, y_data = bootstrap(num_rep,\n",
    "                           s_start,\n",
    "                           s_step,\n",
    "                           s_end,\n",
    "                           p_start,\n",
    "                           p_step,\n",
    "                           p_end,\n",
    "                           Ne,\n",
    "                           gens,\n",
    "                           sizes)\n",
    "torch.save(x_data,'x_train.pth')\n",
    "torch.save(y_data,'y_train.pth')\n",
    "\n",
    "random_indices = torch.randperm(x_data.shape[0])\n",
    "x_data_shuffled = x_data[random_indices, ...]\n",
    "y_data_shuffled = y_data[random_indices, ...]\n",
    "\n",
    "# rename data files if applicable\n",
    "torch.save(x_data_shuffled,'x_train_shuffled.pth')\n",
    "torch.save(y_data_shuffled,'y_train_shuffled.pth')"
   ]
  },
  {
   "cell_type": "code",
   "execution_count": null,
   "metadata": {},
   "outputs": [],
   "source": [
    "\n",
    "x_data2, y_data2 = bootstrap(int(num_rep/4),\n",
    "                           s_start,\n",
    "                           s_step,\n",
    "                           s_end,\n",
    "                           p_start,\n",
    "                           p_step,\n",
    "                           p_end,\n",
    "                           Ne,\n",
    "                           gens,\n",
    "                           sizes)\n",
    "# rename data files if applicable\n",
    "torch.save(x_data2,'x_test.pth')\n",
    "torch.save(y_data2,'y_test.pth')\n",
    "\n",
    "random_indices = torch.randperm(x_data2.shape[0])\n",
    "x_data2_shuffled = x_data2[random_indices, ...]\n",
    "y_data2_shuffled = y_data2[random_indices, ...]\n",
    "\n",
    "# rename data files if applicable\n",
    "torch.save(x_data2_shuffled,'x_test_shuffled.pth')\n",
    "torch.save(y_data2_shuffled,'y_test_shuffled.pth')"
   ]
  }
 ],
 "metadata": {
  "kernelspec": {
   "display_name": "umich",
   "language": "python",
   "name": "python3"
  },
  "language_info": {
   "name": "python",
   "version": "3.12.7"
  }
 },
 "nbformat": 4,
 "nbformat_minor": 2
}
